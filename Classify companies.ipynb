{
 "cells": [
  {
   "cell_type": "code",
   "execution_count": null,
   "metadata": {},
   "outputs": [],
   "source": [
    "import pandas as pd\n",
    "df = pd.read_csv('Book1.csv',sep=';')\n",
    "\n",
    "\n",
    "\n",
    "edu_list = ['school','university','academy','training','nursery','tuition','learning','education',\n",
    "           'institute','institution']\n",
    "NGO_list = ['not-for-profit','non-profit','non-governmental']\n",
    "\n",
    "\n",
    "for index, row in df.iterrows():\n",
    "    for i in edu_list:\n",
    "        for j in NGO_list:\n",
    "            if i in df.iloc[index,0].lower():\n",
    "                df.iloc[index,10] = 'university/school'\n",
    "            elif (j in str(df.iloc[index,2]).lower()) or (j in str(df.iloc[index,6]).lower()):\n",
    "                df.iloc[index,10] = 'government/non-profit'\n",
    "            elif int(df.iloc[index,7][:4]) < 1990:\n",
    "                df.iloc[index,10] = 'mature company'\n",
    "                \n",
    "\n",
    "df.TYPE.value_counts() # Count the number of university/school, government/NGO, mature companies\n",
    "\n",
    "df['TYPE'].isna().sum() # Total number of companies\n",
    "\n",
    "# Number of start-ups = total number of companies - number of university/schools \n",
    "#                                                 - number of government/NGO\n",
    "#                                                 - number of mature companies\n",
    "\n",
    "# Number of Unclassified = 0\n",
    "\n",
    "df.to_excel(\"output.xlsx\")"
   ]
  }
 ],
 "metadata": {
  "kernelspec": {
   "display_name": "Python 3",
   "language": "python",
   "name": "python3"
  },
  "language_info": {
   "codemirror_mode": {
    "name": "ipython",
    "version": 3
   },
   "file_extension": ".py",
   "mimetype": "text/x-python",
   "name": "python",
   "nbconvert_exporter": "python",
   "pygments_lexer": "ipython3",
   "version": "3.7.3"
  }
 },
 "nbformat": 4,
 "nbformat_minor": 2
}
